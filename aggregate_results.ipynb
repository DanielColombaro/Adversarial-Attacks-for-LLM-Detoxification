{
 "cells": [
  {
   "cell_type": "code",
   "execution_count": 1,
   "metadata": {},
   "outputs": [
    {
     "name": "stderr",
     "output_type": "stream",
     "text": [
      "C:\\Users\\danie\\AppData\\Local\\Temp\\ipykernel_26372\\3641321588.py:7: MatplotlibDeprecationWarning: The seaborn styles shipped by Matplotlib are deprecated since 3.6, as they no longer correspond to the styles shipped by seaborn. However, they will remain available as 'seaborn-v0_8-<style>'. Alternatively, directly use the seaborn API instead.\n",
      "  plt.style.use('seaborn-ticks')\n"
     ]
    }
   ],
   "source": [
    "import matplotlib.pyplot as plt \n",
    "import pandas as pd\n",
    "import seaborn as sns\n",
    "import numpy as np\n",
    "import json\n",
    "\n",
    "plt.style.use('seaborn-ticks')"
   ]
  },
  {
   "cell_type": "markdown",
   "metadata": {},
   "source": [
    "# Merge all results"
   ]
  },
  {
   "cell_type": "code",
   "execution_count": 30,
   "metadata": {},
   "outputs": [
    {
     "data": {
      "text/plain": [
       "['Llamantino3-8b/merged/5_samples']"
      ]
     },
     "execution_count": 30,
     "metadata": {},
     "output_type": "execute_result"
    }
   ],
   "source": [
    "base_dir = \"C:/Users/danie/Documents/tirocinio/NLP Bcn/Persona modulation/Jailbreak_LLM-main/merged_eval_results\"\n",
    "models = [\n",
    "    'Llamantino3-8b/merged'\n",
    "    ]\n",
    "models_multi = []\n",
    "for m in models:\n",
    "    models_multi.append(m + '/5_samples')\n",
    "models_multi\n"
   ]
  },
  {
   "cell_type": "code",
   "execution_count": 31,
   "metadata": {},
   "outputs": [
    {
     "data": {
      "text/html": [
       "<div>\n",
       "<style scoped>\n",
       "    .dataframe tbody tr th:only-of-type {\n",
       "        vertical-align: middle;\n",
       "    }\n",
       "\n",
       "    .dataframe tbody tr th {\n",
       "        vertical-align: top;\n",
       "    }\n",
       "\n",
       "    .dataframe thead th {\n",
       "        text-align: right;\n",
       "    }\n",
       "</style>\n",
       "<table border=\"1\" class=\"dataframe\">\n",
       "  <thead>\n",
       "    <tr style=\"text-align: right;\">\n",
       "      <th></th>\n",
       "      <th>model</th>\n",
       "      <th>default</th>\n",
       "      <th>greedy</th>\n",
       "      <th>break_by_temp</th>\n",
       "      <th>break_by_topk</th>\n",
       "      <th>break_by_topp</th>\n",
       "      <th>break_by_all</th>\n",
       "    </tr>\n",
       "  </thead>\n",
       "  <tbody>\n",
       "    <tr>\n",
       "      <th>0</th>\n",
       "      <td>Llamantino3-8b/merged</td>\n",
       "      <td>41</td>\n",
       "      <td>7</td>\n",
       "      <td>92</td>\n",
       "      <td>90</td>\n",
       "      <td>91</td>\n",
       "      <td>98</td>\n",
       "    </tr>\n",
       "  </tbody>\n",
       "</table>\n",
       "</div>"
      ],
      "text/plain": [
       "                   model default greedy break_by_temp break_by_topk  \\\n",
       "0  Llamantino3-8b/merged      41      7            92            90   \n",
       "\n",
       "  break_by_topp break_by_all  \n",
       "0            91           98  "
      ]
     },
     "execution_count": 31,
     "metadata": {},
     "output_type": "execute_result"
    }
   ],
   "source": [
    "dfs = []\n",
    "config_dfs = []\n",
    "multi_sample_string='_sample_5'\n",
    "adv_string = '_advbench'\n",
    "adv_check=False\n",
    "for model in models:\n",
    "    if adv_check==False:\n",
    "        adv_string=''\n",
    "    vanilla = json.load(open(f'{base_dir}/{model}/greedy-only/{adv_string}_matching_only_summary.json', 'r'))\n",
    "    default = json.load(open(f'{base_dir}/{model}/default-only/{adv_string}_matching_only_summary.json', 'r'))\n",
    "    data = json.load(open(f'{base_dir}/{model}/exploited/{adv_string}_matching_only_summary.json', 'r'))\n",
    "    data_cp = {'model': model, 'default': default['default'], 'greedy': vanilla['greedy']}\n",
    "    config_cp = {'model': model}\n",
    "    for (k,v) in data.items():\n",
    "        if k != 'best_attack_config':\n",
    "            data_cp[k] = v\n",
    "        else:\n",
    "            for kk, vv in v.items():\n",
    "                config_cp[kk] = (list(vv.keys())[0].split('_')[1], list(vv.values())[0])\n",
    "    dfs.append(pd.DataFrame([data_cp]))\n",
    "    config_dfs.append(pd.DataFrame([config_cp]))\n",
    "dfs = pd.concat(dfs)\n",
    "dfs"
   ]
  },
  {
   "cell_type": "code",
   "execution_count": 32,
   "metadata": {},
   "outputs": [
    {
     "data": {
      "text/html": [
       "<div>\n",
       "<style scoped>\n",
       "    .dataframe tbody tr th:only-of-type {\n",
       "        vertical-align: middle;\n",
       "    }\n",
       "\n",
       "    .dataframe tbody tr th {\n",
       "        vertical-align: top;\n",
       "    }\n",
       "\n",
       "    .dataframe thead th {\n",
       "        text-align: right;\n",
       "    }\n",
       "</style>\n",
       "<table border=\"1\" class=\"dataframe\">\n",
       "  <thead>\n",
       "    <tr style=\"text-align: right;\">\n",
       "      <th></th>\n",
       "      <th>model</th>\n",
       "      <th>default</th>\n",
       "      <th>greedy</th>\n",
       "      <th>temp</th>\n",
       "      <th>topp</th>\n",
       "      <th>topk</th>\n",
       "    </tr>\n",
       "  </thead>\n",
       "  <tbody>\n",
       "    <tr>\n",
       "      <th>0</th>\n",
       "      <td>Llamantino3-8b/merged</td>\n",
       "      <td>41</td>\n",
       "      <td>7</td>\n",
       "      <td>(0.75, 51)</td>\n",
       "      <td>(0.75, 56)</td>\n",
       "      <td>(100, 48)</td>\n",
       "    </tr>\n",
       "  </tbody>\n",
       "</table>\n",
       "</div>"
      ],
      "text/plain": [
       "                   model default greedy        temp        topp       topk\n",
       "0  Llamantino3-8b/merged      41      7  (0.75, 51)  (0.75, 56)  (100, 48)"
      ]
     },
     "execution_count": 32,
     "metadata": {},
     "output_type": "execute_result"
    }
   ],
   "source": [
    "config_dfs = pd.concat([config_dfs[0].iloc[:,0], dfs['default'], dfs['greedy'], config_dfs[0].iloc[:,1], config_dfs[0].iloc[:,3], config_dfs[0].iloc[:,2]], axis=1)\n",
    "config_dfs"
   ]
  },
  {
   "cell_type": "code",
   "execution_count": null,
   "metadata": {},
   "outputs": [],
   "source": []
  },
  {
   "cell_type": "code",
   "execution_count": 5,
   "metadata": {},
   "outputs": [
    {
     "data": {
      "text/html": [
       "<div>\n",
       "<style scoped>\n",
       "    .dataframe tbody tr th:only-of-type {\n",
       "        vertical-align: middle;\n",
       "    }\n",
       "\n",
       "    .dataframe tbody tr th {\n",
       "        vertical-align: top;\n",
       "    }\n",
       "\n",
       "    .dataframe thead th {\n",
       "        text-align: right;\n",
       "    }\n",
       "</style>\n",
       "<table border=\"1\" class=\"dataframe\">\n",
       "  <thead>\n",
       "    <tr style=\"text-align: right;\">\n",
       "      <th></th>\n",
       "      <th>model</th>\n",
       "      <th>default</th>\n",
       "      <th>greedy</th>\n",
       "      <th>temp</th>\n",
       "      <th>topp</th>\n",
       "      <th>topk</th>\n",
       "    </tr>\n",
       "  </thead>\n",
       "  <tbody>\n",
       "    <tr>\n",
       "      <th>0</th>\n",
       "      <td>Llamantino3-8b/merged</td>\n",
       "      <td>41</td>\n",
       "      <td>7</td>\n",
       "      <td>(0.75, 51)</td>\n",
       "      <td>(0.75, 56)</td>\n",
       "      <td>(100, 48)</td>\n",
       "    </tr>\n",
       "  </tbody>\n",
       "</table>\n",
       "</div>"
      ],
      "text/plain": [
       "                   model default greedy        temp        topp       topk\n",
       "0  Llamantino3-8b/merged      41      7  (0.75, 51)  (0.75, 56)  (100, 48)"
      ]
     },
     "execution_count": 5,
     "metadata": {},
     "output_type": "execute_result"
    }
   ],
   "source": [
    "config_dfs.columns = ['model', 'default', 'greedy', 'temp', 'topp', 'topk']\n",
    "config_dfs"
   ]
  },
  {
   "cell_type": "code",
   "execution_count": 6,
   "metadata": {},
   "outputs": [],
   "source": [
    "config_dfs['temp'] = config_dfs['temp'].apply(lambda x: x[1])\n",
    "config_dfs['topk'] = config_dfs['topk'].apply(lambda x: x[1])\n",
    "config_dfs['topp'] = config_dfs['topp'].apply(lambda x: x[1])"
   ]
  },
  {
   "cell_type": "code",
   "execution_count": 7,
   "metadata": {},
   "outputs": [],
   "source": [
    "for col in config_dfs.columns:\n",
    "    if col!='model':\n",
    "        config_dfs[col] = pd.to_numeric(config_dfs[col], errors='ignore')"
   ]
  },
  {
   "cell_type": "code",
   "execution_count": 8,
   "metadata": {},
   "outputs": [
    {
     "data": {
      "text/html": [
       "<div>\n",
       "<style scoped>\n",
       "    .dataframe tbody tr th:only-of-type {\n",
       "        vertical-align: middle;\n",
       "    }\n",
       "\n",
       "    .dataframe tbody tr th {\n",
       "        vertical-align: top;\n",
       "    }\n",
       "\n",
       "    .dataframe thead th {\n",
       "        text-align: right;\n",
       "    }\n",
       "</style>\n",
       "<table border=\"1\" class=\"dataframe\">\n",
       "  <thead>\n",
       "    <tr style=\"text-align: right;\">\n",
       "      <th></th>\n",
       "      <th>model</th>\n",
       "      <th>default</th>\n",
       "      <th>greedy</th>\n",
       "      <th>temp</th>\n",
       "      <th>topp</th>\n",
       "      <th>topk</th>\n",
       "    </tr>\n",
       "  </thead>\n",
       "  <tbody>\n",
       "    <tr>\n",
       "      <th>0</th>\n",
       "      <td>Llamantino3-8b/merged</td>\n",
       "      <td>41</td>\n",
       "      <td>7</td>\n",
       "      <td>51</td>\n",
       "      <td>56</td>\n",
       "      <td>48</td>\n",
       "    </tr>\n",
       "  </tbody>\n",
       "</table>\n",
       "</div>"
      ],
      "text/plain": [
       "                   model  default  greedy  temp  topp  topk\n",
       "0  Llamantino3-8b/merged       41       7    51    56    48"
      ]
     },
     "execution_count": 8,
     "metadata": {},
     "output_type": "execute_result"
    }
   ],
   "source": [
    "config_dfs"
   ]
  },
  {
   "cell_type": "code",
   "execution_count": 9,
   "metadata": {},
   "outputs": [
    {
     "data": {
      "text/html": [
       "<div>\n",
       "<style scoped>\n",
       "    .dataframe tbody tr th:only-of-type {\n",
       "        vertical-align: middle;\n",
       "    }\n",
       "\n",
       "    .dataframe tbody tr th {\n",
       "        vertical-align: top;\n",
       "    }\n",
       "\n",
       "    .dataframe thead th {\n",
       "        text-align: right;\n",
       "    }\n",
       "</style>\n",
       "<table border=\"1\" class=\"dataframe\">\n",
       "  <thead>\n",
       "    <tr style=\"text-align: right;\">\n",
       "      <th></th>\n",
       "      <th>model</th>\n",
       "      <th>greedy</th>\n",
       "      <th>break_by_temp</th>\n",
       "      <th>break_by_topk</th>\n",
       "      <th>break_by_topp</th>\n",
       "      <th>break_by_all</th>\n",
       "    </tr>\n",
       "  </thead>\n",
       "  <tbody>\n",
       "    <tr>\n",
       "      <th>0</th>\n",
       "      <td>Llamantino3-8b/merged/5_samples</td>\n",
       "      <td>NaN</td>\n",
       "      <td>99</td>\n",
       "      <td>98</td>\n",
       "      <td>99</td>\n",
       "      <td>100</td>\n",
       "    </tr>\n",
       "  </tbody>\n",
       "</table>\n",
       "</div>"
      ],
      "text/plain": [
       "                             model  greedy break_by_temp break_by_topk  \\\n",
       "0  Llamantino3-8b/merged/5_samples     NaN            99            98   \n",
       "\n",
       "  break_by_topp break_by_all  \n",
       "0            99          100  "
      ]
     },
     "execution_count": 9,
     "metadata": {},
     "output_type": "execute_result"
    }
   ],
   "source": [
    "dfs_multi = []\n",
    "config_dfs_multi = []\n",
    "for model in models_multi:\n",
    "    if adv_check==False:\n",
    "        adv_string=''\n",
    "    vanilla = {'greedy':np.nan}\n",
    "    data = json.load(open(f'{base_dir}/{model}/{multi_sample_string}{adv_string}_matching_only_summary.json', 'r'))\n",
    "    data_cp = {'model': model, 'greedy': vanilla['greedy']}\n",
    "    config_cp = {'model': model}\n",
    "    for (k,v) in data.items():\n",
    "        if k != 'best_attack_config':\n",
    "            data_cp[k] = v\n",
    "        else:\n",
    "            for kk, vv in v.items():\n",
    "                config_cp[kk] = (list(vv.keys())[0].split('_')[1], list(vv.values())[0])\n",
    "    dfs_multi.append(pd.DataFrame([data_cp]))\n",
    "    config_dfs_multi.append(pd.DataFrame([config_cp]))\n",
    "dfs_multi = pd.concat(dfs_multi)\n",
    "dfs_multi"
   ]
  },
  {
   "cell_type": "code",
   "execution_count": 10,
   "metadata": {},
   "outputs": [],
   "source": [
    "config_dfs_multi = pd.concat(config_dfs_multi)\n",
    "config_dfs_multi.rename(columns={'temp':'temp_5_samples'}, inplace=True)"
   ]
  },
  {
   "cell_type": "code",
   "execution_count": 11,
   "metadata": {},
   "outputs": [
    {
     "data": {
      "text/html": [
       "<div>\n",
       "<style scoped>\n",
       "    .dataframe tbody tr th:only-of-type {\n",
       "        vertical-align: middle;\n",
       "    }\n",
       "\n",
       "    .dataframe tbody tr th {\n",
       "        vertical-align: top;\n",
       "    }\n",
       "\n",
       "    .dataframe thead th {\n",
       "        text-align: right;\n",
       "    }\n",
       "</style>\n",
       "<table border=\"1\" class=\"dataframe\">\n",
       "  <thead>\n",
       "    <tr style=\"text-align: right;\">\n",
       "      <th></th>\n",
       "      <th>model</th>\n",
       "      <th>default</th>\n",
       "      <th>greedy</th>\n",
       "      <th>temp</th>\n",
       "      <th>topp</th>\n",
       "      <th>topk</th>\n",
       "      <th>temp_5_samples</th>\n",
       "    </tr>\n",
       "  </thead>\n",
       "  <tbody>\n",
       "    <tr>\n",
       "      <th>0</th>\n",
       "      <td>Llamantino3-8b/merged</td>\n",
       "      <td>41</td>\n",
       "      <td>7</td>\n",
       "      <td>51</td>\n",
       "      <td>56</td>\n",
       "      <td>48</td>\n",
       "      <td>(0.9, 90)</td>\n",
       "    </tr>\n",
       "  </tbody>\n",
       "</table>\n",
       "</div>"
      ],
      "text/plain": [
       "                   model  default  greedy  temp  topp  topk temp_5_samples\n",
       "0  Llamantino3-8b/merged       41       7    51    56    48      (0.9, 90)"
      ]
     },
     "execution_count": 11,
     "metadata": {},
     "output_type": "execute_result"
    }
   ],
   "source": [
    "config_dfs['temp_5_samples'] = config_dfs_multi['temp_5_samples']\n",
    "config_dfs"
   ]
  },
  {
   "cell_type": "code",
   "execution_count": 12,
   "metadata": {},
   "outputs": [],
   "source": [
    "config_dfs.to_csv('C:/Users/danie/Documents/tirocinio/NLP Bcn/Persona modulation/Jailbreak_LLM-main/aggregate_results/aggregate_results.csv')"
   ]
  },
  {
   "cell_type": "code",
   "execution_count": 13,
   "metadata": {},
   "outputs": [
    {
     "data": {
      "text/html": [
       "<div>\n",
       "<style scoped>\n",
       "    .dataframe tbody tr th:only-of-type {\n",
       "        vertical-align: middle;\n",
       "    }\n",
       "\n",
       "    .dataframe tbody tr th {\n",
       "        vertical-align: top;\n",
       "    }\n",
       "\n",
       "    .dataframe thead th {\n",
       "        text-align: right;\n",
       "    }\n",
       "</style>\n",
       "<table border=\"1\" class=\"dataframe\">\n",
       "  <thead>\n",
       "    <tr style=\"text-align: right;\">\n",
       "      <th></th>\n",
       "      <th>model</th>\n",
       "      <th>default</th>\n",
       "      <th>greedy</th>\n",
       "      <th>temp</th>\n",
       "      <th>topp</th>\n",
       "      <th>topk</th>\n",
       "      <th>temp_5_samples</th>\n",
       "    </tr>\n",
       "  </thead>\n",
       "  <tbody>\n",
       "    <tr>\n",
       "      <th>0</th>\n",
       "      <td>Llamantino3-8b/merged</td>\n",
       "      <td>41</td>\n",
       "      <td>7</td>\n",
       "      <td>51</td>\n",
       "      <td>56</td>\n",
       "      <td>48</td>\n",
       "      <td>(0.9, 90)</td>\n",
       "    </tr>\n",
       "  </tbody>\n",
       "</table>\n",
       "</div>"
      ],
      "text/plain": [
       "                   model  default  greedy  temp  topp  topk temp_5_samples\n",
       "0  Llamantino3-8b/merged       41       7    51    56    48      (0.9, 90)"
      ]
     },
     "execution_count": 13,
     "metadata": {},
     "output_type": "execute_result"
    }
   ],
   "source": [
    "config_dfs"
   ]
  },
  {
   "cell_type": "code",
   "execution_count": 14,
   "metadata": {},
   "outputs": [
    {
     "data": {
      "text/html": [
       "<div>\n",
       "<style scoped>\n",
       "    .dataframe tbody tr th:only-of-type {\n",
       "        vertical-align: middle;\n",
       "    }\n",
       "\n",
       "    .dataframe tbody tr th {\n",
       "        vertical-align: top;\n",
       "    }\n",
       "\n",
       "    .dataframe thead th {\n",
       "        text-align: right;\n",
       "    }\n",
       "</style>\n",
       "<table border=\"1\" class=\"dataframe\">\n",
       "  <thead>\n",
       "    <tr style=\"text-align: right;\">\n",
       "      <th></th>\n",
       "      <th>index</th>\n",
       "      <th>model</th>\n",
       "      <th>default</th>\n",
       "      <th>greedy</th>\n",
       "      <th>temp</th>\n",
       "      <th>topp</th>\n",
       "      <th>topk</th>\n",
       "      <th>temp_5_samples</th>\n",
       "    </tr>\n",
       "  </thead>\n",
       "  <tbody>\n",
       "    <tr>\n",
       "      <th>0</th>\n",
       "      <td>0</td>\n",
       "      <td>Llamantino3-8b/merged</td>\n",
       "      <td>41</td>\n",
       "      <td>7</td>\n",
       "      <td>51</td>\n",
       "      <td>56</td>\n",
       "      <td>48</td>\n",
       "      <td>(0.9, 90)</td>\n",
       "    </tr>\n",
       "  </tbody>\n",
       "</table>\n",
       "</div>"
      ],
      "text/plain": [
       "   index                  model  default  greedy  temp  topp  topk  \\\n",
       "0      0  Llamantino3-8b/merged       41       7    51    56    48   \n",
       "\n",
       "  temp_5_samples  \n",
       "0      (0.9, 90)  "
      ]
     },
     "execution_count": 14,
     "metadata": {},
     "output_type": "execute_result"
    }
   ],
   "source": [
    "config_dfs = config_dfs.reset_index()\n",
    "config_dfs"
   ]
  },
  {
   "cell_type": "code",
   "execution_count": 15,
   "metadata": {},
   "outputs": [
    {
     "data": {
      "text/html": [
       "<div>\n",
       "<style scoped>\n",
       "    .dataframe tbody tr th:only-of-type {\n",
       "        vertical-align: middle;\n",
       "    }\n",
       "\n",
       "    .dataframe tbody tr th {\n",
       "        vertical-align: top;\n",
       "    }\n",
       "\n",
       "    .dataframe thead th {\n",
       "        text-align: right;\n",
       "    }\n",
       "</style>\n",
       "<table border=\"1\" class=\"dataframe\">\n",
       "  <thead>\n",
       "    <tr style=\"text-align: right;\">\n",
       "      <th></th>\n",
       "      <th>model</th>\n",
       "      <th>default</th>\n",
       "      <th>greedy</th>\n",
       "      <th>temp</th>\n",
       "      <th>topp</th>\n",
       "      <th>topk</th>\n",
       "      <th>temp_5_samples</th>\n",
       "    </tr>\n",
       "  </thead>\n",
       "  <tbody>\n",
       "    <tr>\n",
       "      <th>0</th>\n",
       "      <td>Llamantino3-8b/merged</td>\n",
       "      <td>41</td>\n",
       "      <td>7</td>\n",
       "      <td>51</td>\n",
       "      <td>56</td>\n",
       "      <td>48</td>\n",
       "      <td>(0.9, 90)</td>\n",
       "    </tr>\n",
       "  </tbody>\n",
       "</table>\n",
       "</div>"
      ],
      "text/plain": [
       "                   model  default  greedy  temp  topp  topk temp_5_samples\n",
       "0  Llamantino3-8b/merged       41       7    51    56    48      (0.9, 90)"
      ]
     },
     "execution_count": 15,
     "metadata": {},
     "output_type": "execute_result"
    }
   ],
   "source": [
    "config_dfs.drop('index', axis=1, inplace=True)\n",
    "config_dfs"
   ]
  },
  {
   "cell_type": "code",
   "execution_count": 20,
   "metadata": {},
   "outputs": [],
   "source": [
    "# Extract the attack success rates from the tuples\n",
    "config_dfs['temp_rate'] = config_dfs['temp']# .apply(lambda x: x[1])\n",
    "config_dfs['topk_rate'] = config_dfs['topk']# .apply(lambda x: x[1])\n",
    "config_dfs['topp_rate'] = config_dfs['topp']# .apply(lambda x: x[1])\n",
    "config_dfs['temp_5_samples_rate'] = config_dfs['temp_5_samples'].apply(lambda x: x[1])\n",
    "\n"
   ]
  },
  {
   "cell_type": "code",
   "execution_count": 17,
   "metadata": {},
   "outputs": [],
   "source": [
    "config_dfs['temp_5_samples_rate'] = config_dfs['temp_5_samples'].apply(lambda x: x[1])"
   ]
  },
  {
   "cell_type": "code",
   "execution_count": 21,
   "metadata": {},
   "outputs": [
    {
     "data": {
      "text/html": [
       "<div>\n",
       "<style scoped>\n",
       "    .dataframe tbody tr th:only-of-type {\n",
       "        vertical-align: middle;\n",
       "    }\n",
       "\n",
       "    .dataframe tbody tr th {\n",
       "        vertical-align: top;\n",
       "    }\n",
       "\n",
       "    .dataframe thead th {\n",
       "        text-align: right;\n",
       "    }\n",
       "</style>\n",
       "<table border=\"1\" class=\"dataframe\">\n",
       "  <thead>\n",
       "    <tr style=\"text-align: right;\">\n",
       "      <th></th>\n",
       "      <th>model</th>\n",
       "      <th>default</th>\n",
       "      <th>greedy</th>\n",
       "      <th>temp</th>\n",
       "      <th>topp</th>\n",
       "      <th>topk</th>\n",
       "      <th>temp_5_samples</th>\n",
       "      <th>temp_5_samples_rate</th>\n",
       "      <th>temp_rate</th>\n",
       "      <th>topk_rate</th>\n",
       "      <th>topp_rate</th>\n",
       "    </tr>\n",
       "  </thead>\n",
       "  <tbody>\n",
       "    <tr>\n",
       "      <th>0</th>\n",
       "      <td>Llamantino3-8b/merged</td>\n",
       "      <td>41</td>\n",
       "      <td>7</td>\n",
       "      <td>51</td>\n",
       "      <td>56</td>\n",
       "      <td>48</td>\n",
       "      <td>(0.9, 90)</td>\n",
       "      <td>90</td>\n",
       "      <td>51</td>\n",
       "      <td>48</td>\n",
       "      <td>56</td>\n",
       "    </tr>\n",
       "  </tbody>\n",
       "</table>\n",
       "</div>"
      ],
      "text/plain": [
       "                   model  default  greedy  temp  topp  topk temp_5_samples  \\\n",
       "0  Llamantino3-8b/merged       41       7    51    56    48      (0.9, 90)   \n",
       "\n",
       "  temp_5_samples_rate  temp_rate  topk_rate  topp_rate  \n",
       "0                  90         51         48         56  "
      ]
     },
     "execution_count": 21,
     "metadata": {},
     "output_type": "execute_result"
    }
   ],
   "source": [
    "config_dfs"
   ]
  },
  {
   "cell_type": "code",
   "execution_count": 22,
   "metadata": {},
   "outputs": [
    {
     "data": {
      "text/plain": [
       "numpy.int64"
      ]
     },
     "execution_count": 22,
     "metadata": {},
     "output_type": "execute_result"
    }
   ],
   "source": [
    "type(config_dfs['temp_rate'][0])"
   ]
  },
  {
   "cell_type": "code",
   "execution_count": 23,
   "metadata": {},
   "outputs": [],
   "source": [
    "for col in config_dfs.columns:\n",
    "    if col!='model':\n",
    "        config_dfs[col] = pd.to_numeric(config_dfs[col], errors='ignore')"
   ]
  },
  {
   "cell_type": "code",
   "execution_count": 28,
   "metadata": {},
   "outputs": [
    {
     "data": {
      "text/plain": [
       "<Figure size 1200x600 with 0 Axes>"
      ]
     },
     "metadata": {},
     "output_type": "display_data"
    },
    {
     "data": {
      "image/png": "[encoded data removed]",
      "text/plain": [
       "<Figure size 640x480 with 1 Axes>"
      ]
     },
     "metadata": {},
     "output_type": "display_data"
    }
   ],
   "source": [
    "# Plotting\n",
    "plt.figure(figsize=(12, 6))\n",
    "config_dfs.plot(x='model', y=['topk_rate', 'topp_rate', 'temp_rate', 'temp_5_samples_rate'], kind='bar')\n",
    "plt.title('ASR Llamantino3-8b MaliciousInstruct')\n",
    "plt.xlabel('Model')\n",
    "plt.ylabel('Attack Success Rate (%)')\n",
    "plt.xticks(rotation=45)\n",
    "plt.grid(axis='y', linestyle=':', color='gray', linewidth=0.8)\n",
    "plt.legend(title='Configuration', bbox_to_anchor=(1, 1), fontsize='small')\n",
    "# plt.tight_layout()\n",
    "plt.show()"
   ]
  },
  {
   "cell_type": "code",
   "execution_count": 34,
   "metadata": {},
   "outputs": [
    {
     "name": "stderr",
     "output_type": "stream",
     "text": [
      "C:\\Users\\danie\\AppData\\Local\\Temp\\ipykernel_26372\\422343708.py:3: FutureWarning: The default dtype for empty Series will be 'object' instead of 'float64' in a future version. Specify a dtype explicitly to silence this warning.\n",
      "  dfs=pd.Series()\n"
     ]
    }
   ],
   "source": [
    "adv_string = '_advbench'\n",
    "adv_check=True\n",
    "dfs=pd.Series()\n",
    "for model in models:\n",
    "    if adv_check==False:\n",
    "        adv_string=''\n",
    "    data = pd.read_csv(f'{base_dir}/{model}/exploited/{adv_string}_matching_only_results.csv')\n",
    "    data.drop('Unnamed: 0', axis=1, inplace=True)\n",
    "    temp_data = data.filter(like='topk', axis=1)\n",
    "    column_sums = temp_data.sum()\n",
    "    dfs = pd.concat([dfs, column_sums], axis=1)"
   ]
  },
  {
   "cell_type": "code",
   "execution_count": 35,
   "metadata": {},
   "outputs": [
    {
     "data": {
      "text/html": [
       "<div>\n",
       "<style scoped>\n",
       "    .dataframe tbody tr th:only-of-type {\n",
       "        vertical-align: middle;\n",
       "    }\n",
       "\n",
       "    .dataframe tbody tr th {\n",
       "        vertical-align: top;\n",
       "    }\n",
       "\n",
       "    .dataframe thead th {\n",
       "        text-align: right;\n",
       "    }\n",
       "</style>\n",
       "<table border=\"1\" class=\"dataframe\">\n",
       "  <thead>\n",
       "    <tr style=\"text-align: right;\">\n",
       "      <th></th>\n",
       "      <th>Top_k</th>\n",
       "      <th>Llamantino3-8b/merged</th>\n",
       "    </tr>\n",
       "  </thead>\n",
       "  <tbody>\n",
       "    <tr>\n",
       "      <th>0</th>\n",
       "      <td>topk_1</td>\n",
       "      <td>42</td>\n",
       "    </tr>\n",
       "    <tr>\n",
       "      <th>1</th>\n",
       "      <td>topk_2</td>\n",
       "      <td>43</td>\n",
       "    </tr>\n",
       "    <tr>\n",
       "      <th>2</th>\n",
       "      <td>topk_5</td>\n",
       "      <td>33</td>\n",
       "    </tr>\n",
       "    <tr>\n",
       "      <th>3</th>\n",
       "      <td>topk_10</td>\n",
       "      <td>37</td>\n",
       "    </tr>\n",
       "    <tr>\n",
       "      <th>4</th>\n",
       "      <td>topk_20</td>\n",
       "      <td>47</td>\n",
       "    </tr>\n",
       "    <tr>\n",
       "      <th>5</th>\n",
       "      <td>topk_50</td>\n",
       "      <td>47</td>\n",
       "    </tr>\n",
       "    <tr>\n",
       "      <th>6</th>\n",
       "      <td>topk_100</td>\n",
       "      <td>40</td>\n",
       "    </tr>\n",
       "    <tr>\n",
       "      <th>7</th>\n",
       "      <td>topk_200</td>\n",
       "      <td>39</td>\n",
       "    </tr>\n",
       "  </tbody>\n",
       "</table>\n",
       "</div>"
      ],
      "text/plain": [
       "      Top_k  Llamantino3-8b/merged\n",
       "0    topk_1                     42\n",
       "1    topk_2                     43\n",
       "2    topk_5                     33\n",
       "3   topk_10                     37\n",
       "4   topk_20                     47\n",
       "5   topk_50                     47\n",
       "6  topk_100                     40\n",
       "7  topk_200                     39"
      ]
     },
     "execution_count": 35,
     "metadata": {},
     "output_type": "execute_result"
    }
   ],
   "source": [
    "dfs = dfs.iloc[:,1:]\n",
    "dfs.columns = models\n",
    "dfs = dfs.reset_index()\n",
    "dfs.rename(columns={'index':'Top_k'}, inplace=True)\n",
    "dfs"
   ]
  },
  {
   "cell_type": "code",
   "execution_count": 37,
   "metadata": {},
   "outputs": [
    {
     "data": {
      "text/plain": [
       "<Figure size 800x600 with 0 Axes>"
      ]
     },
     "metadata": {},
     "output_type": "display_data"
    },
    {
     "data": {
      "image/png": "[encoded data removed]",
      "text/plain": [
       "<Figure size 640x480 with 1 Axes>"
      ]
     },
     "metadata": {},
     "output_type": "display_data"
    }
   ],
   "source": [
    "plt.figure(figsize=(8, 6))  # Optional: Set the figure size\n",
    "dfs.plot(x=\"Top_k\", y=[col for col in models], marker='o', linestyle='-', linewidth=2)\n",
    "\n",
    "# Add titles and labels\n",
    "plt.title('ASR Llamantino3-8b Top-k AdvBench', fontsize=14)\n",
    "plt.xlabel('Top-k', fontsize=12)\n",
    "plt.ylabel('Attack Success Rate (%)', fontsize=12)\n",
    "\n",
    "# Customize the grid and ticks\n",
    "plt.grid(axis='y', linestyle='--', alpha=0.7)\n",
    "plt.xticks(fontsize=10)\n",
    "plt.yticks(range(0, column_sums.max() + 1), fontsize=10)\n",
    "plt.ylim(0,100)\n",
    "plt.yticks(range(0,100,10))\n",
    "\n",
    "# Show the plot\n",
    "plt.tight_layout()\n",
    "plt.show()"
   ]
  },
  {
   "cell_type": "code",
   "execution_count": 38,
   "metadata": {},
   "outputs": [
    {
     "ename": "NameError",
     "evalue": "name 'deltas_dict' is not defined",
     "output_type": "error",
     "traceback": [
      "\u001b[1;31m---------------------------------------------------------------------------\u001b[0m",
      "\u001b[1;31mNameError\u001b[0m                                 Traceback (most recent call last)",
      "Cell \u001b[1;32mIn[38], line 1\u001b[0m\n\u001b[1;32m----> 1\u001b[0m deltas_df \u001b[38;5;241m=\u001b[39m pd\u001b[38;5;241m.\u001b[39mDataFrame\u001b[38;5;241m.\u001b[39mfrom_dict(\u001b[43mdeltas_dict\u001b[49m, orient\u001b[38;5;241m=\u001b[39m\u001b[38;5;124m'\u001b[39m\u001b[38;5;124mindex\u001b[39m\u001b[38;5;124m'\u001b[39m, columns\u001b[38;5;241m=\u001b[39m[\u001b[38;5;124m'\u001b[39m\u001b[38;5;124mDelta temp\u001b[39m\u001b[38;5;124m'\u001b[39m, \u001b[38;5;124m'\u001b[39m\u001b[38;5;124mDelta top_p\u001b[39m\u001b[38;5;124m'\u001b[39m, \u001b[38;5;124m'\u001b[39m\u001b[38;5;124mDelta top_k\u001b[39m\u001b[38;5;124m'\u001b[39m])\n\u001b[0;32m      2\u001b[0m deltas_df\n",
      "\u001b[1;31mNameError\u001b[0m: name 'deltas_dict' is not defined"
     ]
    }
   ],
   "source": [
    "deltas_df = pd.DataFrame.from_dict(deltas_dict, orient='index', columns=['Delta temp', 'Delta top_p', 'Delta top_k'])\n",
    "deltas_df\n"
   ]
  },
  {
   "cell_type": "code",
   "execution_count": null,
   "metadata": {},
   "outputs": [],
   "source": [
    "# Reset the index to have the temperatures as a column\n",
    "deltas_df.reset_index(inplace=True)\n",
    "deltas_df.rename(columns={'index': 'Model'}, inplace=True)"
   ]
  },
  {
   "cell_type": "code",
   "execution_count": null,
   "metadata": {},
   "outputs": [
    {
     "data": {
      "text/plain": [
       "<matplotlib.legend.Legend at 0x1b3e4a15210>"
      ]
     },
     "execution_count": 183,
     "metadata": {},
     "output_type": "execute_result"
    },
    {
     "data": {
      "text/plain": [
       "<Figure size 1000x600 with 0 Axes>"
      ]
     },
     "metadata": {},
     "output_type": "display_data"
    },
    {
     "data": {
      "image/png": "[encoded data removed]",
      "text/plain": [
       "<Figure size 640x480 with 1 Axes>"
      ]
     },
     "metadata": {},
     "output_type": "display_data"
    }
   ],
   "source": [
    "plt.figure(figsize=(10, 6))\n",
    "deltas_df.plot(x='Model', y=['Delta temp', 'Delta top_p', 'Delta top_k'], alpha=0.7, kind='bar')\n",
    "plt.yticks(range(0,30,3))\n",
    "plt.grid(axis='y', linestyle=':', color='gray', linewidth=0.8)\n",
    "plt.xticks(rotation=45)\n",
    "plt.xlabel('Model')\n",
    "plt.ylabel('ASR difference')\n",
    "plt.title('ASR llama-2-7b-chat-hf MaliciousInstruct difference ')\n",
    "plt.legend()"
   ]
  }
 ],
 "metadata": {
  "kernelspec": {
   "display_name": "torch-env",
   "language": "python",
   "name": "python3"
  },
  "language_info": {
   "codemirror_mode": {
    "name": "ipython",
    "version": 3
   },
   "file_extension": ".py",
   "mimetype": "text/x-python",
   "name": "python",
   "nbconvert_exporter": "python",
   "pygments_lexer": "ipython3",
   "version": "3.10.9"
  },
  "orig_nbformat": 4
 },
 "nbformat": 4,
 "nbformat_minor": 2
}
